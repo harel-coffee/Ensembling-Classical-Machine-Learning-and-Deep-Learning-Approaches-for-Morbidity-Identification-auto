{
 "cells": [
  {
   "cell_type": "code",
   "execution_count": 6,
   "metadata": {},
   "outputs": [],
   "source": [
    "from sklearn.naive_bayes import MultinomialNB\n",
    "import os\n",
    "os.chdir('/Users/ritwikdeshpande/DLH/Project/CS598_DLH_Project/')\n",
    "from dataset.preprocessing.word2vec_embeddings_gen import Word2VecFeatureGeneration\n",
    "from sklearn.metrics import f1_score\n",
    "import csv\n",
    "from sklearn.model_selection import KFold\n",
    "import numpy as np\n",
    "import pandas as pd"
   ]
  },
  {
   "cell_type": "code",
   "execution_count": 2,
   "metadata": {},
   "outputs": [],
   "source": [
    "class NaiveBayes:\n",
    "    def __init__(self, x_train, y_train, x_test, y_test):\n",
    "        self.nb = MultinomialNB()\n",
    "        self.x_train = x_train\n",
    "        self.y_train = y_train\n",
    "        self.x_test = x_test\n",
    "        self.y_test = y_test\n",
    "        # print(self.x_train.shape, self.y_train.shape, self.x_test.shape, self.y_test.shape)\n",
    "        \n",
    "    def train(self):\n",
    "        self.nb.fit(self.x_train, self.y_train)\n",
    "\n",
    "    def test_and_evaluate(self):\n",
    "        y_pred = self.nb.predict(self.x_test)\n",
    "        f1_macro = f1_score(self.y_test, y_pred, average='macro')\n",
    "        f1_micro = f1_score(self.y_test, y_pred, average='micro')\n",
    "        #print(f\"Macro F1 score: {f1_macro} and Micro F1 Score {f1_micro}\")\n",
    "        return f1_macro, f1_micro"
   ]
  },
  {
   "cell_type": "code",
   "execution_count": 3,
   "metadata": {},
   "outputs": [],
   "source": [
    "morbidities = ['Asthma', 'CAD', 'CHF', 'Depression', 'Diabetes', 'Gallstones', 'GERD', 'Gout', 'Hypercholesterolemia', 'Hypertension', 'Hypertriglyceridemia', 'OA', 'Obesity', 'OSA', 'PVD', 'Venous-Insufficiency']"
   ]
  },
  {
   "cell_type": "code",
   "execution_count": 4,
   "metadata": {},
   "outputs": [],
   "source": [
    "column_headings = [\"Morbidity Class\", \"NB_Macro F1\", \"NB_Micro F1\"]\n",
    "\n",
    "with open(\"./results/word-embeddings-features/performance_NB.csv\", \"w\", newline=\"\") as file:\n",
    "    writer = csv.writer(file)\n",
    "    writer.writerow([column_headings[0], column_headings[1], column_headings[2]])\n",
    "    "
   ]
  },
  {
   "cell_type": "code",
   "execution_count": 8,
   "metadata": {},
   "outputs": [
    {
     "name": "stdout",
     "output_type": "stream",
     "text": [
      "(572, 3570, 100) (572,) Counter({0.0: 502, 1.0: 70})\n",
      "Macro F1 score: 0.4672986632039369 and Micro F1 Score 0.8776164549304294\n",
      "(548, 3570, 100) (548,) Counter({1.0: 325, 0.0: 223})\n",
      "Macro F1 score: 0.37097755114996545 and Micro F1 Score 0.5911784511784511\n",
      "(243, 3122, 100) (243,) Counter({1.0: 243})\n",
      "Macro F1 score: 1.0 and Micro F1 Score 1.0\n",
      "(582, 3570, 100) (582,) Counter({0.0: 460, 1.0: 122})\n",
      "Macro F1 score: 0.4408968801610552 and Micro F1 Score 0.790385739333723\n",
      "(567, 3570, 100) (567,) Counter({1.0: 396, 0.0: 171})\n",
      "Macro F1 score: 0.409804351439744 and Micro F1 Score 0.6985902255639098\n",
      "(593, 3570, 100) (593,) Counter({0.0: 506, 1.0: 87})\n",
      "Macro F1 score: 0.4599902140879871 and Micro F1 Score 0.8532485875706215\n",
      "(487, 3570, 100) (487,) Counter({0.0: 372, 1.0: 115})\n",
      "Macro F1 score: 0.4323776782842145 and Micro F1 Score 0.7638605442176871\n",
      "(596, 3570, 100) (596,) Counter({0.0: 518, 1.0: 78})\n",
      "Macro F1 score: 0.4647957966912661 and Micro F1 Score 0.8691242937853108\n",
      "(502, 3570, 100) (502,) Counter({1.0: 262, 0.0: 240})\n",
      "Macro F1 score: 0.5381537930116653 and Micro F1 Score 0.5457647058823529\n",
      "(531, 3570, 100) (531,) Counter({1.0: 428, 0.0: 103})\n",
      "Macro F1 score: 0.4460153333840456 and Micro F1 Score 0.8061495457721873\n",
      "(587, 3570, 100) (587,) Counter({0.0: 554, 1.0: 33})\n",
      "Macro F1 score: 0.4854267614497737 and Micro F1 Score 0.9438924605493864\n",
      "(565, 3570, 100) (565,) Counter({0.0: 467, 1.0: 98})\n",
      "Macro F1 score: 0.452141711885941 and Micro F1 Score 0.8264724310776941\n",
      "(553, 3570, 100) (553,) Counter({0.0: 314, 1.0: 239})\n",
      "Macro F1 score: 0.4692736754300121 and Micro F1 Score 0.5553246753246752\n",
      "(590, 3570, 100) (590,) Counter({0.0: 506, 1.0: 84})\n",
      "Macro F1 score: 0.4614615533195976 and Micro F1 Score 0.8576271186440678\n",
      "(556, 3570, 100) (556,) Counter({0.0: 469, 1.0: 87})\n",
      "Macro F1 score: 0.45720052093954766 and Micro F1 Score 0.8435389610389612\n",
      "(526, 3570, 100) (526,) Counter({0.0: 482, 1.0: 44})\n",
      "Macro F1 score: 0.47801077753999144 and Micro F1 Score 0.9164368650217707\n"
     ]
    }
   ],
   "source": [
    "all_f1_macro_scores = []\n",
    "all_f1_micro_scores = []\n",
    "\n",
    "for morbidity in morbidities:\n",
    "    train_preprocessed_df = pd.read_csv('./dataset/train/train_data_intuitive_preprocessed.csv')\n",
    "    train_preprocessed_df = train_preprocessed_df[train_preprocessed_df[morbidity].isin([1.0, 0.0])]\n",
    "\n",
    "    X, Y, words = Word2VecFeatureGeneration(train_preprocessed_df, morbidity).word2vec_matrix_gen()\n",
    "    X = np.abs(np.average(X, axis=1))\n",
    "    # add KFold cross validation\n",
    "    skf = KFold(n_splits=10, shuffle=True, random_state=42)\n",
    "\n",
    "    f1_macro_list = []\n",
    "    f1_micro_list = []\n",
    "    for train_idx, val_idx in skf.split(X, Y):\n",
    "        X_train_fold, Y_train_fold = X[train_idx], Y[train_idx]\n",
    "        X_val_fold, Y_val_fold = X[val_idx], Y[val_idx]\n",
    "\n",
    "        # Training RF using TF-IDF Representation\n",
    "        nb_obj = NaiveBayes(X_train_fold, Y_train_fold, X_val_fold, Y_val_fold)\n",
    "        nb_obj.train()\n",
    "\n",
    "        f1_macro, f1_micro = nb_obj.test_and_evaluate()\n",
    "\n",
    "        f1_macro_list.append(f1_macro)\n",
    "        f1_micro_list.append(f1_micro)\n",
    "\n",
    "    f1_macro = np.mean(f1_macro_list)\n",
    "    f1_micro = np.mean(f1_micro_list)\n",
    "    print(f\"Macro F1 score: {f1_macro} and Micro F1 Score {f1_micro}\")\n",
    "\n",
    "    row_heading = morbidity\n",
    "\n",
    "    # data to be written to the CSV file\n",
    "    data = [f1_macro, f1_micro]\n",
    "    all_f1_macro_scores.append(f1_macro)\n",
    "    all_f1_micro_scores.append(f1_micro)\n",
    "\n",
    "    with open(\"./results/word-embeddings-features/performance_NB.csv\", \"a\", newline=\"\") as file:\n",
    "        writer = csv.writer(file)\n",
    "        row = [row_heading]\n",
    "        row.extend(data)\n",
    "        writer.writerow(row)\n",
    "\n",
    "with open(\"./results/word-embeddings-features/performance_NB.csv\", \"a\", newline=\"\") as file:\n",
    "    writer = csv.writer(file)\n",
    "    row = [\"Overall-Average\"]\n",
    "    row.extend([sum(all_f1_macro_scores)/len(all_f1_macro_scores),  sum(all_f1_micro_scores)/len(all_f1_micro_scores) ])\n",
    "    writer.writerow(row)"
   ]
  }
 ],
 "metadata": {
  "kernelspec": {
   "display_name": "Python 3",
   "language": "python",
   "name": "python3"
  },
  "language_info": {
   "codemirror_mode": {
    "name": "ipython",
    "version": 3
   },
   "file_extension": ".py",
   "mimetype": "text/x-python",
   "name": "python",
   "nbconvert_exporter": "python",
   "pygments_lexer": "ipython3",
   "version": "3.7.6"
  },
  "orig_nbformat": 4
 },
 "nbformat": 4,
 "nbformat_minor": 2
}
