{
 "cells": [
  {
   "cell_type": "code",
   "execution_count": 1,
   "metadata": {},
   "outputs": [
    {
     "name": "stderr",
     "output_type": "stream",
     "text": [
      "DEBUG:weka.core.jvm:Adding bundled jars\n",
      "DEBUG:weka.core.jvm:Classpath=['/Users/ritwikdeshpande/DLH/Project/CS598_DLH_Project/venv/lib/python3.7/site-packages/javabridge/jars/rhino-1.7R4.jar', '/Users/ritwikdeshpande/DLH/Project/CS598_DLH_Project/venv/lib/python3.7/site-packages/javabridge/jars/runnablequeue.jar', '/Users/ritwikdeshpande/DLH/Project/CS598_DLH_Project/venv/lib/python3.7/site-packages/javabridge/jars/cpython.jar', '/Users/ritwikdeshpande/DLH/Project/CS598_DLH_Project/venv/lib/python3.7/site-packages/weka/lib/python-weka-wrapper.jar', '/Users/ritwikdeshpande/DLH/Project/CS598_DLH_Project/venv/lib/python3.7/site-packages/weka/lib/weka.jar']\n",
      "DEBUG:weka.core.jvm:MaxHeapSize=default\n",
      "DEBUG:weka.core.jvm:Package support disabled\n"
     ]
    }
   ],
   "source": [
    "import os\n",
    "os.chdir('/Users/ritwikdeshpande/DLH/Project/CS598_DLH_Project/')\n",
    "import weka.core.jvm as jvm\n",
    "import numpy as np\n",
    "import csv\n",
    "import pandas as pd\n",
    "from weka.classifiers import Classifier\n",
    "from weka.core.converters import Loader\n",
    "from weka.core.converters import Loader\n",
    "from weka.classifiers import Evaluation\n",
    "from weka.core.classes import Random\n",
    "from dataset.preprocessing.tf_idf_all_feature_matrix_gen import TFIDFFeatureGeneration\n",
    "\n",
    "\n",
    "jvm.start()\n",
    "loader = Loader(classname=\"weka.core.converters.ArffLoader\")\n"
   ]
  },
  {
   "cell_type": "code",
   "execution_count": 2,
   "metadata": {},
   "outputs": [],
   "source": [
    "class JRip:\n",
    "    def __init__(self, train_data):\n",
    "        self.jRip = Classifier(classname=\"weka.classifiers.rules.JRip\")\n",
    "        self.jRip.build_classifier(train_data)\n",
    "        self.evaluator = Evaluation(train_data)\n",
    "\n",
    "        \n",
    "        # print(self.x_train.shape, self.y_train.shape, self.x_test.shape, self.y_test.shape)\n",
    "    \n",
    "    def test_and_evaluate(self, train_data):\n",
    "        self.evaluator.crossvalidate_model(self.jRip, train_data, 10, Random(1))\n",
    "        f1_macro = self.evaluator.weighted_f_measure\n",
    "        f1_micro = self.evaluator.f_measure(1)\n",
    "        # print(f\"Macro F1 score: {f1_macro} and Micro F1 Score {f1_micro}\")\n",
    "        return f1_macro, f1_micro"
   ]
  },
  {
   "cell_type": "code",
   "execution_count": 3,
   "metadata": {},
   "outputs": [],
   "source": [
    "morbidities = ['Asthma', 'CAD', 'CHF', 'Depression', 'Diabetes', 'Gallstones', 'GERD', 'Gout', 'Hypercholesterolemia', 'Hypertension', 'Hypertriglyceridemia', 'OA', 'Obesity', 'OSA', 'PVD', 'Venous-Insufficiency']\n",
    "\n",
    "column_headings = [\"Morbidity Class\", \"DT_Macro F1\", \"DT_Micro F1\"]\n",
    "\n",
    "with open(\"./results/word-embeddings-features/performance_JRip.csv\", \"w\", newline=\"\") as file:\n",
    "    writer = csv.writer(file)\n",
    "    writer.writerow([column_headings[0], column_headings[1], column_headings[2]])\n",
    "    "
   ]
  },
  {
   "cell_type": "code",
   "execution_count": 4,
   "metadata": {},
   "outputs": [
    {
     "name": "stdout",
     "output_type": "stream",
     "text": [
      "Asthma\n",
      "Macro F1 score: 0.8229750237254928 and Micro F1 Score 0.05128205128205128\n",
      "CAD\n",
      "Macro F1 score: 0.6877358601174591 and Micro F1 Score 0.7447447447447448\n",
      "CHF\n",
      "weka.classifiers.rules.JRip: Cannot handle unary class!\n",
      "Macro F1 score: 1 and Micro F1 Score 1\n",
      "Depression\n"
     ]
    },
    {
     "name": "stderr",
     "output_type": "stream",
     "text": [
      "Exception in thread \"Thread-1\" weka.core.UnsupportedAttributeTypeException: weka.classifiers.rules.JRip: Cannot handle unary class!\n",
      "\tat weka.core.Capabilities.test(Capabilities.java:1045)\n",
      "\tat weka.core.Capabilities.test(Capabilities.java:1256)\n",
      "\tat weka.core.Capabilities.test(Capabilities.java:1138)\n",
      "\tat weka.core.Capabilities.testWithFail(Capabilities.java:1468)\n",
      "\tat weka.classifiers.rules.JRip.buildClassifier(JRip.java:1667)\n"
     ]
    },
    {
     "name": "stdout",
     "output_type": "stream",
     "text": [
      "Macro F1 score: 0.7014216326131933 and Micro F1 Score 0.031007751937984496\n",
      "Diabetes\n",
      "Macro F1 score: 0.6734279181251572 and Micro F1 Score 0.8087056128293242\n",
      "Gallstones\n",
      "Macro F1 score: 0.7815310246600343 and Micro F1 Score 0.0\n",
      "GERD\n",
      "Macro F1 score: 0.662250920498135 and Micro F1 Score 0.016666666666666666\n",
      "Gout\n",
      "Macro F1 score: 0.8123124254310107 and Micro F1 Score 0.02531645569620253\n",
      "Hypercholesterolemia\n",
      "Macro F1 score: 0.6092502361775378 and Micro F1 Score 0.6473779385171791\n",
      "Hypertension\n",
      "Macro F1 score: 0.7369667329088336 and Micro F1 Score 0.8756756756756756\n",
      "Hypertriglyceridemia\n",
      "Macro F1 score: nan and Micro F1 Score nan\n",
      "OA\n",
      "Macro F1 score: nan and Micro F1 Score nan\n",
      "Obesity\n",
      "Macro F1 score: 0.6060723799523893 and Micro F1 Score 0.5069124423963134\n",
      "OSA\n",
      "Macro F1 score: 0.7924364456964331 and Micro F1 Score 0.02247191011235955\n",
      "PVD\n",
      "Macro F1 score: 0.7908066393383059 and Micro F1 Score 0.19672131147540983\n",
      "Venous-Insufficiency\n",
      "Macro F1 score: nan and Micro F1 Score nan\n"
     ]
    }
   ],
   "source": [
    "all_f1_macro_scores = []\n",
    "all_f1_micro_scores = []\n",
    "\n",
    "for morbidity in morbidities:\n",
    "    print(morbidity)\n",
    "    f1_macro_list = []\n",
    "    f1_micro_list = []\n",
    "    train_data = loader.load_file(f\"./dataset/train/train_{morbidity}_we.arff\")\n",
    "    train_data.class_is_last()\n",
    "    try:\n",
    "        jRip_obj = JRip(train_data)\n",
    "        f1_macro, f1_micro = jRip_obj.test_and_evaluate(train_data)\n",
    "    except Exception as ex:\n",
    "        print(str(ex))\n",
    "        f1_macro = 1\n",
    "        f1_micro = 1\n",
    "    print(f\"Macro F1 score: {f1_macro} and Micro F1 Score {f1_micro}\")\n",
    "\n",
    "    row_heading = morbidity\n",
    "\n",
    "    # data to be written to the CSV file\n",
    "    data = [f1_macro, f1_micro]\n",
    "    all_f1_macro_scores.append(f1_macro)\n",
    "    all_f1_micro_scores.append(f1_micro)\n",
    "\n",
    "    with open(\"./results/word-embeddings-features/performance_JRip.csv\", \"a\", newline=\"\") as file:\n",
    "        writer = csv.writer(file)\n",
    "        row = [row_heading]\n",
    "        row.extend(data)\n",
    "        writer.writerow(row)\n",
    "\n",
    "\n",
    "with open(\"./results/word-embeddings-features/performance_JRip.csv\", \"a\", newline=\"\") as file:\n",
    "    writer = csv.writer(file)\n",
    "    row = [\"Overall-Average\"]\n",
    "    row.extend([sum(all_f1_macro_scores)/len(all_f1_macro_scores),  sum(all_f1_micro_scores)/len(all_f1_micro_scores) ])\n",
    "    writer.writerow(row)"
   ]
  },
  {
   "cell_type": "code",
   "execution_count": 14,
   "metadata": {},
   "outputs": [],
   "source": [
    "jvm.stop()"
   ]
  }
 ],
 "metadata": {
  "kernelspec": {
   "display_name": "venv",
   "language": "python",
   "name": "python3"
  },
  "language_info": {
   "codemirror_mode": {
    "name": "ipython",
    "version": 3
   },
   "file_extension": ".py",
   "mimetype": "text/x-python",
   "name": "python",
   "nbconvert_exporter": "python",
   "pygments_lexer": "ipython3",
   "version": "3.7.6"
  },
  "orig_nbformat": 4
 },
 "nbformat": 4,
 "nbformat_minor": 2
}
