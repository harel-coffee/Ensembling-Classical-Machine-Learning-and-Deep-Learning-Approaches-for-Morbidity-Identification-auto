{
 "cells": [
  {
   "cell_type": "code",
   "execution_count": 1,
   "metadata": {},
   "outputs": [
    {
     "name": "stderr",
     "output_type": "stream",
     "text": [
      "DEBUG:weka.core.jvm:Adding bundled jars\n",
      "DEBUG:weka.core.jvm:Classpath=['/Users/ritwikdeshpande/DLH/Project/CS598_DLH_Project/venv/lib/python3.7/site-packages/javabridge/jars/rhino-1.7R4.jar', '/Users/ritwikdeshpande/DLH/Project/CS598_DLH_Project/venv/lib/python3.7/site-packages/javabridge/jars/runnablequeue.jar', '/Users/ritwikdeshpande/DLH/Project/CS598_DLH_Project/venv/lib/python3.7/site-packages/javabridge/jars/cpython.jar', '/Users/ritwikdeshpande/DLH/Project/CS598_DLH_Project/venv/lib/python3.7/site-packages/weka/lib/python-weka-wrapper.jar', '/Users/ritwikdeshpande/DLH/Project/CS598_DLH_Project/venv/lib/python3.7/site-packages/weka/lib/weka.jar']\n",
      "DEBUG:weka.core.jvm:MaxHeapSize=default\n",
      "DEBUG:weka.core.jvm:Package support disabled\n"
     ]
    }
   ],
   "source": [
    "import os\n",
    "os.chdir('/Users/ritwikdeshpande/DLH/Project/CS598_DLH_Project/')\n",
    "import weka.core.jvm as jvm\n",
    "import numpy as np\n",
    "import csv\n",
    "import pandas as pd\n",
    "from weka.classifiers import Classifier\n",
    "from weka.core.converters import Loader\n",
    "from weka.core.converters import Loader\n",
    "from weka.classifiers import Evaluation\n",
    "from weka.core.classes import Random\n",
    "\n",
    "from dataset.preprocessing.tf_idf_all_feature_matrix_gen import TFIDFFeatureGeneration\n",
    "\n",
    "\n",
    "jvm.start()\n",
    "loader = Loader(classname=\"weka.core.converters.ArffLoader\")\n"
   ]
  },
  {
   "cell_type": "code",
   "execution_count": 2,
   "metadata": {},
   "outputs": [],
   "source": [
    "class J48:\n",
    "    def __init__(self, train_data):\n",
    "        self.j48 = Classifier(classname=\"weka.classifiers.trees.J48\")\n",
    "        self.j48.build_classifier(train_data)\n",
    "        self.evaluator = Evaluation(train_data)\n",
    "\n",
    "        \n",
    "        # print(self.x_train.shape, self.y_train.shape, self.x_test.shape, self.y_test.shape)\n",
    "    \n",
    "    def test_and_evaluate(self, train_data):\n",
    "        self.evaluator.crossvalidate_model(self.j48, train_data, 10, Random(1))\n",
    "        f1_macro = self.evaluator.weighted_f_measure\n",
    "        f1_micro = self.evaluator.f_measure(1)\n",
    "        # print(f\"Macro F1 score: {f1_macro} and Micro F1 Score {f1_micro}\")\n",
    "        return f1_macro, f1_micro"
   ]
  },
  {
   "cell_type": "code",
   "execution_count": 3,
   "metadata": {},
   "outputs": [],
   "source": [
    "morbidities = ['Asthma', 'CAD', 'CHF', 'Depression', 'Diabetes', 'Gallstones', 'GERD', 'Gout', 'Hypercholesterolemia', 'Hypertension', 'Hypertriglyceridemia', 'OA', 'Obesity', 'OSA', 'PVD', 'Venous-Insufficiency']\n",
    "\n",
    "column_headings = [\"Morbidity Class\", \"DT_Macro F1\", \"DT_Micro F1\"]\n",
    "\n",
    "with open(\"./results/word-embeddings-features/performance_J48.csv\", \"w\", newline=\"\") as file:\n",
    "    writer = csv.writer(file)\n",
    "    writer.writerow([column_headings[0], column_headings[1], column_headings[2]])\n",
    "    "
   ]
  },
  {
   "cell_type": "code",
   "execution_count": 4,
   "metadata": {},
   "outputs": [
    {
     "name": "stdout",
     "output_type": "stream",
     "text": [
      "Asthma\n",
      "Macro F1 score: 0.8098958098958099 and Micro F1 Score 0.11111111111111112\n",
      "CAD\n",
      "Macro F1 score: 0.6440340665358723 and Micro F1 Score 0.7004608294930876\n",
      "CHF\n",
      "weka.classifiers.trees.J48: Cannot handle unary class!\n",
      "Macro F1 score: 1 and Micro F1 Score 1\n",
      "Depression\n"
     ]
    },
    {
     "name": "stderr",
     "output_type": "stream",
     "text": [
      "Exception in thread \"Thread-1\" weka.core.UnsupportedAttributeTypeException: weka.classifiers.trees.J48: Cannot handle unary class!\n",
      "\tat weka.core.Capabilities.test(Capabilities.java:1045)\n",
      "\tat weka.core.Capabilities.test(Capabilities.java:1256)\n",
      "\tat weka.core.Capabilities.test(Capabilities.java:1138)\n",
      "\tat weka.core.Capabilities.testWithFail(Capabilities.java:1468)\n",
      "\tat weka.classifiers.trees.J48.buildClassifier(J48.java:277)\n"
     ]
    },
    {
     "name": "stdout",
     "output_type": "stream",
     "text": [
      "Macro F1 score: 0.6950551330484458 and Micro F1 Score 0.029411764705882356\n",
      "Diabetes\n",
      "Macro F1 score: 0.6555339805825243 and Micro F1 Score 0.7709090909090909\n",
      "Gallstones\n",
      "Macro F1 score: 0.7801078278295615 and Micro F1 Score 0.0202020202020202\n",
      "GERD\n",
      "Macro F1 score: 0.6720709674560148 and Micro F1 Score 0.1\n",
      "Gout\n",
      "Macro F1 score: 0.8087149209982762 and Micro F1 Score 0.11320754716981134\n",
      "Hypercholesterolemia\n",
      "Macro F1 score: 0.6269116749855664 and Micro F1 Score 0.6654676258992807\n",
      "Hypertension\n",
      "Macro F1 score: 0.7231437420898147 and Micro F1 Score 0.8664495114006515\n",
      "Hypertriglyceridemia\n",
      "Macro F1 score: 0.9147807410487396 and Micro F1 Score 0.0\n",
      "OA\n",
      "Macro F1 score: 0.7467944456435713 and Micro F1 Score 0.019047619047619042\n",
      "Obesity\n",
      "Macro F1 score: 0.5421382982622558 and Micro F1 Score 0.4673684210526316\n",
      "OSA\n",
      "Macro F1 score: 0.7978623269975021 and Micro F1 Score 0.1746031746031746\n",
      "PVD\n",
      "Macro F1 score: 0.7800090433857717 and Micro F1 Score 0.20289855072463767\n",
      "Venous-Insufficiency\n",
      "Macro F1 score: 0.8715829697220128 and Micro F1 Score 0.0\n"
     ]
    }
   ],
   "source": [
    "all_f1_macro_scores = []\n",
    "all_f1_micro_scores = []\n",
    "\n",
    "for morbidity in morbidities:\n",
    "    print(morbidity)\n",
    "    f1_macro_list = []\n",
    "    f1_micro_list = []\n",
    "    train_data = loader.load_file(f\"./dataset/train/train_{morbidity}_we.arff\")\n",
    "    train_data.class_is_last()\n",
    "    try:\n",
    "        j48_obj = J48(train_data)\n",
    "        f1_macro, f1_micro = j48_obj.test_and_evaluate(train_data)\n",
    "    except Exception as ex:\n",
    "        print(str(ex))\n",
    "        f1_macro = 1\n",
    "        f1_micro = 1\n",
    "    print(f\"Macro F1 score: {f1_macro} and Micro F1 Score {f1_micro}\")\n",
    "\n",
    "    row_heading = morbidity\n",
    "\n",
    "    # data to be written to the CSV file\n",
    "    data = [f1_macro, f1_micro]\n",
    "    all_f1_macro_scores.append(f1_macro)\n",
    "    all_f1_micro_scores.append(f1_micro)\n",
    "\n",
    "    with open(\"./results/word-embeddings-features/performance_J48.csv\", \"a\", newline=\"\") as file:\n",
    "        writer = csv.writer(file)\n",
    "        row = [row_heading]\n",
    "        row.extend(data)\n",
    "        writer.writerow(row)\n",
    "\n",
    "\n",
    "with open(\"./results/word-embeddings-features/performance_J48.csv\", \"a\", newline=\"\") as file:\n",
    "    writer = csv.writer(file)\n",
    "    row = [\"Overall-Average\"]\n",
    "    row.extend([sum(all_f1_macro_scores)/len(all_f1_macro_scores),  sum(all_f1_micro_scores)/len(all_f1_micro_scores) ])\n",
    "    writer.writerow(row)"
   ]
  },
  {
   "cell_type": "code",
   "execution_count": 5,
   "metadata": {},
   "outputs": [],
   "source": [
    "jvm.stop()"
   ]
  }
 ],
 "metadata": {
  "kernelspec": {
   "display_name": "venv",
   "language": "python",
   "name": "python3"
  },
  "language_info": {
   "codemirror_mode": {
    "name": "ipython",
    "version": 3
   },
   "file_extension": ".py",
   "mimetype": "text/x-python",
   "name": "python",
   "nbconvert_exporter": "python",
   "pygments_lexer": "ipython3",
   "version": "3.7.6"
  },
  "orig_nbformat": 4
 },
 "nbformat": 4,
 "nbformat_minor": 2
}
