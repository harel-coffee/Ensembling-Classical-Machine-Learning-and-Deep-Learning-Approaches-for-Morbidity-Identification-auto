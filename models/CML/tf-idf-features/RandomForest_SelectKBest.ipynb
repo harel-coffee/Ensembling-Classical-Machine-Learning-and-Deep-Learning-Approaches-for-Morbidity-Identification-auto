{
 "cells": [
  {
   "cell_type": "code",
   "execution_count": 1,
   "metadata": {},
   "outputs": [],
   "source": [
    "from sklearn.ensemble import RandomForestClassifier\n",
    "import os\n",
    "os.chdir('/Users/renalkakhan/Documents/GitHub/CS598_DLH_Project/')\n",
    "from dataset.preprocessing.tf_idf_all_feature_matrix_gen import TFIDFFeatureGeneration\n",
    "from sklearn.metrics import f1_score\n",
    "import numpy as np\n",
    "from sklearn.model_selection import KFold\n",
    "from sklearn.feature_selection import SelectKBest, f_classif\n",
    "import csv\n",
    "import pandas as pd"
   ]
  },
  {
   "cell_type": "code",
   "execution_count": 2,
   "metadata": {},
   "outputs": [],
   "source": [
    "class RandomForest:\n",
    "    def __init__(self, x_train, y_train, x_test, y_test, k):\n",
    "        self.rf = RandomForestClassifier(n_estimators=100, random_state=42)\n",
    "        self.k = k\n",
    "        self.x_train = x_train\n",
    "        self.y_train = y_train\n",
    "        self.x_test = x_test\n",
    "        self.y_test = y_test\n",
    "        print(self.x_train.shape, self.y_train.shape, self.x_test.shape, self.y_test.shape)\n",
    "\n",
    "    def feature_selection(self):\n",
    "        k_best = SelectKBest(f_classif, k=self.k)\n",
    "        k_best.fit(self.x_train, self.y_train)\n",
    "        self.x_train = k_best.transform(self.x_train)\n",
    "        self.x_test = k_best.transform(self.x_test)\n",
    "        \n",
    "    def train(self):\n",
    "        self.rf.fit(self.x_train, self.y_train)\n",
    "\n",
    "    def test_and_evaluate(self):\n",
    "        y_pred = self.rf.predict(self.x_test)\n",
    "        f1_macro = f1_score(self.y_test, y_pred, average='macro')\n",
    "        f1_micro = f1_score(self.y_test, y_pred, average='micro')\n",
    "        #print(f\"Macro F1 score: {f1_macro} and Micro F1 Score {f1_micro}\")\n",
    "        return f1_macro, f1_micro"
   ]
  },
  {
   "cell_type": "code",
   "execution_count": 3,
   "metadata": {},
   "outputs": [],
   "source": [
    "morbidities = ['Asthma', 'CAD', 'CHF', 'Depression', 'Diabetes', 'Gallstones', 'GERD', 'Gout', 'Hypercholesterolemia', 'Hypertension', 'Hypertriglyceridemia', 'OA', 'Obesity', 'OSA', 'PVD', 'Venous-Insufficiency']"
   ]
  },
  {
   "cell_type": "code",
   "execution_count": null,
   "metadata": {},
   "outputs": [],
   "source": [
    "column_headings = [\"Morbidity Class\", \"RF_Macro F1\", \"RF_Micro F1\"]\n",
    "\n",
    "with open(\"./results/performance_RF_SelectKBest.csv\", \"w\", newline=\"\") as file:\n",
    "    writer = csv.writer(file)\n",
    "\n",
    "    # write the RF heading and the subheadings for Micro F1 and Macro F1\n",
    "    writer.writerow([column_headings[0], column_headings[1], column_headings[2]])\n",
    "    \n",
    "for morbidity in morbidities:\n",
    "    print(morbidity)\n",
    "    train_preprocessed_df = pd.read_csv('./dataset/train/train_data_intuitive_preprocessed.csv')\n",
    "    train_preprocessed_df = train_preprocessed_df[train_preprocessed_df[morbidity].isin([1.0, 0.0])]\n",
    "\n",
    "    X, Y, words = TFIDFFeatureGeneration(train_preprocessed_df, morbidity).tf_idf_matrix_gen()\n",
    "\n",
    "    # add KFold cross validation\n",
    "    skf = KFold(n_splits=10, shuffle=True, random_state=42)\n",
    "\n",
    "    f1_macro_list = []\n",
    "    f1_micro_list = []\n",
    "    for train_idx, val_idx in skf.split(X, Y):\n",
    "        X_train_fold, Y_train_fold = X[train_idx], Y[train_idx]\n",
    "        X_val_fold, Y_val_fold = X[val_idx], Y[val_idx]\n",
    "\n",
    "        # Training RF using TF-IDF Representation\n",
    "        rf_obj = RandomForest(X_train_fold, Y_train_fold, X_val_fold, Y_val_fold, 100)\n",
    "        rf_obj.feature_selection()\n",
    "        rf_obj.train()\n",
    "\n",
    "        f1_macro, f1_micro = rf_obj.test_and_evaluate()\n",
    "\n",
    "        f1_macro_list.append(f1_macro)\n",
    "        f1_micro_list.append(f1_micro)\n",
    "\n",
    "    f1_macro = np.mean(f1_macro_list)\n",
    "    f1_micro = np.mean(f1_micro_list)\n",
    "    print(f\"Macro F1 score: {f1_macro} and Micro F1 Score {f1_micro}\")\n",
    "\n",
    "    row_heading = morbidity\n",
    "\n",
    "    # data to be written to the CSV file\n",
    "    data = [f1_macro, f1_micro]\n",
    "\n",
    "    with open(\"./results/performance_RF_SelectKBest.csv\", \"a\", newline=\"\") as file:\n",
    "        writer = csv.writer(file)\n",
    "        row = [row_heading]\n",
    "        row.extend(data)\n",
    "        writer.writerow(row)"
   ]
  }
 ],
 "metadata": {
  "kernelspec": {
   "display_name": "Python 3",
   "language": "python",
   "name": "python3"
  },
  "language_info": {
   "codemirror_mode": {
    "name": "ipython",
    "version": 3
   },
   "file_extension": ".py",
   "mimetype": "text/x-python",
   "name": "python",
   "nbconvert_exporter": "python",
   "pygments_lexer": "ipython3",
   "version": "3.8.9"
  },
  "orig_nbformat": 4
 },
 "nbformat": 4,
 "nbformat_minor": 2
}
