{
 "cells": [
  {
   "cell_type": "code",
   "execution_count": 13,
   "metadata": {},
   "outputs": [
    {
     "name": "stderr",
     "output_type": "stream",
     "text": [
      "INFO:weka.core.jvm:JVM already running, call jvm.stop() first\n"
     ]
    }
   ],
   "source": [
    "import os\n",
    "os.chdir(os.path.join(os.getcwd(), '..','..', '..'))\n",
    "import weka.core.jvm as jvm\n",
    "import numpy as np\n",
    "import csv\n",
    "import pandas as pd\n",
    "from weka.classifiers import Classifier\n",
    "from weka.core.converters import Loader\n",
    "from weka.core.converters import Loader\n",
    "from weka.classifiers import Evaluation\n",
    "from weka.core.classes import Random\n",
    "\n",
    "from dataset.preprocessing.tf_idf_all_feature_matrix_gen import TFIDFFeatureGeneration\n",
    "\n",
    "\n",
    "jvm.start()\n",
    "loader = Loader(classname=\"weka.core.converters.ArffLoader\")\n"
   ]
  },
  {
   "cell_type": "code",
   "execution_count": 27,
   "metadata": {},
   "outputs": [],
   "source": [
    "class J48:\n",
    "    def __init__(self, train_data):\n",
    "        self.j48 = Classifier(classname=\"weka.classifiers.trees.J48\")\n",
    "        self.j48.build_classifier(train_data)\n",
    "        self.evaluator = Evaluation(train_data)\n",
    "\n",
    "        \n",
    "        # print(self.x_train.shape, self.y_train.shape, self.x_test.shape, self.y_test.shape)\n",
    "    \n",
    "    def test_and_evaluate(self, train_data):\n",
    "        self.evaluator.crossvalidate_model(self.j48, train_data, 10, Random(1))\n",
    "        f1_macro = self.evaluator.weighted_f_measure\n",
    "        f1_micro = self.evaluator.f_measure(1)\n",
    "        # print(f\"Macro F1 score: {f1_macro} and Micro F1 Score {f1_micro}\")\n",
    "        return f1_macro, f1_micro"
   ]
  },
  {
   "cell_type": "code",
   "execution_count": 28,
   "metadata": {},
   "outputs": [],
   "source": [
    "morbidities = ['Asthma', 'CAD', 'CHF', 'Depression', 'Diabetes', 'Gallstones', 'GERD', 'Gout', 'Hypercholesterolemia', 'Hypertension', 'Hypertriglyceridemia', 'OA', 'Obesity', 'OSA', 'PVD', 'Venous-Insufficiency']\n",
    "\n",
    "column_headings = [\"Morbidity Class\", \"DT_Macro F1\", \"DT_Micro F1\"]\n",
    "\n",
    "with open(\"./results/tf-idf-features/performance_J48.csv\", \"w\", newline=\"\") as file:\n",
    "    writer = csv.writer(file)\n",
    "    writer.writerow([column_headings[0], column_headings[1], column_headings[2]])\n",
    "    "
   ]
  },
  {
   "cell_type": "code",
   "execution_count": 30,
   "metadata": {},
   "outputs": [
    {
     "name": "stdout",
     "output_type": "stream",
     "text": [
      "Asthma\n",
      "Macro F1 score: 0.967920420055783 and Micro F1 Score 0.8656716417910447\n",
      "CAD\n",
      "Macro F1 score: 0.854211455359452 and Micro F1 Score 0.8761609907120742\n",
      "CHF\n",
      "weka.classifiers.trees.J48: Cannot handle unary class!\n",
      "Macro F1 score: 1 and Micro F1 Score 1\n",
      "Depression\n"
     ]
    },
    {
     "name": "stderr",
     "output_type": "stream",
     "text": [
      "Exception in thread \"Thread-1\" weka.core.UnsupportedAttributeTypeException: weka.classifiers.trees.J48: Cannot handle unary class!\n",
      "\tat weka.core.Capabilities.test(Capabilities.java:1045)\n",
      "\tat weka.core.Capabilities.test(Capabilities.java:1256)\n",
      "\tat weka.core.Capabilities.test(Capabilities.java:1138)\n",
      "\tat weka.core.Capabilities.testWithFail(Capabilities.java:1468)\n",
      "\tat weka.classifiers.trees.J48.buildClassifier(J48.java:277)\n"
     ]
    },
    {
     "name": "stdout",
     "output_type": "stream",
     "text": [
      "Macro F1 score: 0.8486251768781816 and Micro F1 Score 0.6454183266932271\n",
      "Diabetes\n",
      "Macro F1 score: 0.9118165784832452 and Micro F1 Score 0.9368686868686869\n",
      "Gallstones\n",
      "Macro F1 score: 0.7691496543535847 and Micro F1 Score 0.2391304347826087\n",
      "GERD\n",
      "Macro F1 score: 0.6495345177166398 and Micro F1 Score 0.2868852459016393\n",
      "Gout\n",
      "Macro F1 score: 0.785234899328859 and Micro F1 Score 0.1794871794871795\n",
      "Hypercholesterolemia\n",
      "Macro F1 score: 0.8048738734088037 and Micro F1 Score 0.8085937499999999\n",
      "Hypertension\n",
      "Macro F1 score: 0.8861496713329197 and Micro F1 Score 0.9302325581395349\n",
      "Hypertriglyceridemia\n",
      "Macro F1 score: 0.9072232298239227 and Micro F1 Score 0.13333333333333333\n",
      "OA\n",
      "Macro F1 score: 0.7451327433628319 and Micro F1 Score 0.2653061224489796\n",
      "Obesity\n",
      "Macro F1 score: 0.9548031823313856 and Micro F1 Score 0.9478079331941545\n",
      "OSA\n",
      "Macro F1 score: 0.9016949152542373 and Micro F1 Score 0.6547619047619048\n",
      "PVD\n",
      "Macro F1 score: 0.9053311615187141 and Micro F1 Score 0.7005649717514124\n",
      "Venous-Insufficiency\n",
      "Macro F1 score: 0.8520511192949202 and Micro F1 Score 0.13186813186813187\n"
     ]
    }
   ],
   "source": [
    "all_f1_macro_scores = []\n",
    "all_f1_micro_scores = []\n",
    "\n",
    "for morbidity in morbidities:\n",
    "    print(morbidity)\n",
    "    f1_macro_list = []\n",
    "    f1_micro_list = []\n",
    "    train_data = loader.load_file(f\"./dataset/train/train_{morbidity}_tfidf.arff\")\n",
    "    train_data.class_is_last()\n",
    "    try:\n",
    "        j48_obj = J48(train_data)\n",
    "        f1_macro, f1_micro = j48_obj.test_and_evaluate(train_data)\n",
    "    except Exception as ex:\n",
    "        print(str(ex))\n",
    "        f1_macro = 1\n",
    "        f1_micro = 1\n",
    "    print(f\"Macro F1 score: {f1_macro} and Micro F1 Score {f1_micro}\")\n",
    "\n",
    "    row_heading = morbidity\n",
    "\n",
    "    # data to be written to the CSV file\n",
    "    data = [f1_macro, f1_micro]\n",
    "    all_f1_macro_scores.append(f1_macro)\n",
    "    all_f1_micro_scores.append(f1_micro)\n",
    "\n",
    "    with open(\"./results/tf-idf-features/performance_J48.csv\", \"a\", newline=\"\") as file:\n",
    "        writer = csv.writer(file)\n",
    "        row = [row_heading]\n",
    "        row.extend(data)\n",
    "        writer.writerow(row)\n",
    "\n",
    "\n",
    "with open(\"./results/tf-idf-features/performance_J48.csv\", \"a\", newline=\"\") as file:\n",
    "    writer = csv.writer(file)\n",
    "    row = [\"Overall-Average\"]\n",
    "    row.extend([sum(all_f1_macro_scores)/len(all_f1_macro_scores),  sum(all_f1_micro_scores)/len(all_f1_micro_scores) ])\n",
    "    writer.writerow(row)"
   ]
  },
  {
   "cell_type": "code",
   "execution_count": 8,
   "metadata": {},
   "outputs": [
    {
     "name": "stdout",
     "output_type": "stream",
     "text": [
      "0,0.014637,0.015228,0.013877,0,0,0,0,0.011786,0,0,0,0.038485,0,0,0,0.007837,0.017422,0.062747,0.027826,0.015317,0.011053,0,0.007327,0.009066,0,0,0.046689,0.333541,0.048852,0,0,0,0,0,0.01655,0,0.010052,0,0.094985,0,0.010375,0.048233,0,0,0,0,0.026292,0,0,0.059873,0.013733,0,0,0,0,0,0.339955,0,0,0,0,0,0.025705,0.074316,0,0.052802,0,0.066151,0,0,0,0,0,0,0.053292,0.064142,0,0,0,0,0,0,0.016442,0,0,0.027541,0.0222,0,0,0,0,0,0.030281,0,0.019714,0,0.00805,0,0,0,0.061767,0,0.010396,0.01588,0,0,0.023833,0,0,0.016885,0.010375,0,0,0.045291,0.015978,0.014597,0,0.009272,0,0,0,0.027754,0,0.013192,0,0.022625,0,0,0,0,0.129645,0.012828,0,0.02156,0.012672,0.060831,0.013166,0,0,0,0,0.040586,0.011193,0.014862,0,0.006459,0.0144,0,0,0.006414,0.038485,0.01618,0.070273,0.00853,0.03377,0.014678,0,0.016496,0,0,0,0.014208,0.009934,0.014759,0.093378,0,0.018147,0,0,0.013806,0.023676,0,0,0,0,0,0.009395,0,0.016885,0.042177,0.010355,0.014718,0.029274,0,0,0,0,0,0,0.014801,0,0,0.015929,0.013328,0.024046,0.021477,0,0.04192,0.037751,0.026331,0,0,0,0,0.068236,0.027194,0,0,0,0.027418,0,0.018217,0.096719,0,0.044652,0.067254,0.011385,0,0,0,0,0.057911,0.036466,0,0,0,0,0,0,0,0,0.112916,0,0,0,0,0.084527,0,0.03575,0,0.187127,0,0,0.058954,0.012241,0.015702,0.006539,0.032992,0,0,0,0,0,0,0,0,0.015831,0.009819,0.09566,0.15475,0,0.030036,0,0,0.009781,0,0,0.01323,0,0,0,0.044586,0.014246,0,0.034118,0,0.01736,0,0.057168,0.014968,0,0,0,0,0,0.057616,0.054245,0,0,0.01076,0,0.015408,0,0.015782,0,0.037402,0,0,0,0,0.030281,0,0,0.018579,0.025497,0.021788,0,0,0,0,0,0.033542,0.012186,0.014439,0,0.008849,0.019547,0,0.15319,0,0,0.015546,0.045735,0,0.035352,0,0,0,0,0.016389,0,0,0,0,0.022434,0,0,0,0.012159,0,0,0,0.030907,0,0,0.045531,0,0,0.019524,0,0,0.010151,0,0,0,0,0,0,0,0.205256,0,0.008768,0.192427,0,0.070917,0.015228,0,0.036186,0,0,0,0,0,0.027057,0.012214,0,0,0,0.029515,0.008932,0.097908,0,0,0,0,0.046637,0,0.019263,0.014968,0,0,0,0,0,0,0,0,0,0.013039,0.028799,0.05167,0,0.018287,0,0,0,0.023978,0.029005,0.013877,0.012853,0.009237,0,0,0.015782,0.009449,0,0.011458,0,0.013198,0.03575,0,0,0,0,0,0.059838,0.037927,0,0,0.026591,0.028118,0,0,0,0,0.01872,0.019457,0,0,0,0.026722,0.024483,0,0.006414,0.011607,0,0,0,0,0.031957,0,0,0,0,0.020834,0.137199,0,0.021788,0,0,0.034001,0.028118,0,0,0,0.037489,0,0.014801,0,0.017248,0.030022,0.014517,0.286194,0,0,0.118515,0.06627,0,0,0,0,0,0,0.028799,0.105679,0,0,0.012584,0,0,0.012023,0.012642,0,0.040251,0.04441,0,0.0449,0,0,0,0,0.018359,0,0.020103,0.020277,0,0,0,0.067138,0,0,0,0.042288,0.013735,0.030546,0,0.026396,0,0,0,0.016905,0.243741,0,0.018077,0,0,0,0.017178,0.017,0.008316,0.012672,0.017807,0.045952,0,0.017471,0.173185,0,0,0,0.061631,0,0,0,0,0,0,0,0.043666,0,0.056654,0,0.08384,0,0,0.021484,0.021788,0.029114,0,0.009015,0.05619,0,0.034118,0.056421,0.032672,0.030816,0,0.045033,0.016885,0.034844,0,0,0,0.021217,0.030816,0,0.044907,0.026722,0,0.035909,0,0.059929,0,0,0.019868,0.039821,0.27823,0,0,0.033885,0,0.033542,0.01666,0,0,0.035266,0,0,0,0,0_0\n",
      "Predicted class: 0_0\n"
     ]
    }
   ],
   "source": [
    "jvm.stop()"
   ]
  }
 ],
 "metadata": {
  "kernelspec": {
   "display_name": "venv",
   "language": "python",
   "name": "python3"
  },
  "language_info": {
   "codemirror_mode": {
    "name": "ipython",
    "version": 3
   },
   "file_extension": ".py",
   "mimetype": "text/x-python",
   "name": "python",
   "nbconvert_exporter": "python",
   "pygments_lexer": "ipython3",
   "version": "3.7.6"
  },
  "orig_nbformat": 4
 },
 "nbformat": 4,
 "nbformat_minor": 2
}
