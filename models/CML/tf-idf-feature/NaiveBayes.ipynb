{
 "cells": [
  {
   "cell_type": "code",
<<<<<<< Updated upstream
   "execution_count": null,
=======
   "execution_count": 2,
>>>>>>> Stashed changes
   "metadata": {},
   "outputs": [],
   "source": [
    "from sklearn.naive_bayes import MultinomialNB\n",
    "import os\n",
    "os.chdir('/Users/renalkakhan/Documents/GitHub/CS598_DLH_Project/')\n",
    "from dataset.preprocessing.data_preprocessing import DataPreprocessing\n",
    "from dataset.preprocessing.tf_idf_all_feature_matrix_gen import TFIDFFeatureGeneration\n",
    "from dataset.preprocessing.word2vec_embeddings_gen import Word2VecFeatureGeneration\n",
    "from sklearn.metrics import f1_score\n",
    "from sklearn.model_selection import KFold\n",
<<<<<<< Updated upstream
    "import numpy as np"
=======
    "import csv\n",
    "import numpy as np\n",
    "import pandas as pd"
>>>>>>> Stashed changes
   ]
  },
  {
   "cell_type": "code",
<<<<<<< Updated upstream
   "execution_count": null,
=======
   "execution_count": 3,
>>>>>>> Stashed changes
   "metadata": {},
   "outputs": [],
   "source": [
    "class NaiveBayes:\n",
    "    def __init__(self, x_train, y_train, x_test, y_test):\n",
    "        self.nb = MultinomialNB()\n",
    "        self.x_train = x_train\n",
    "        self.y_train = y_train\n",
    "        self.x_test = x_test\n",
    "        self.y_test = y_test\n",
    "        print(self.x_train.shape, self.y_train.shape, self.x_test.shape, self.y_test.shape)\n",
    "        \n",
    "    def train(self):\n",
    "        self.nb.fit(self.x_train, self.y_train)\n",
    "\n",
    "    def test_and_evaluate(self):\n",
    "        y_pred = self.nb.predict(self.x_test)\n",
    "        f1_macro = f1_score(self.y_test, y_pred, average='macro')\n",
    "        f1_micro = f1_score(self.y_test, y_pred, average='micro')\n",
    "        #print(f\"Macro F1 score: {f1_macro} and Micro F1 Score {f1_micro}\")\n",
    "        return f1_macro, f1_micro"
   ]
  },
  {
   "cell_type": "code",
<<<<<<< Updated upstream
   "execution_count": null,
   "metadata": {},
   "outputs": [],
   "source": [
    "morbidities = ['Asthma', 'CAD', 'CHF', 'Depression', 'Diabetes', 'Gallstones', 'GERD', 'Gout', 'Hypercholesterolemia', 'Hypertension', 'Hypertriglyceridemia', 'OA', 'Obesity', 'OSA', 'PVD', 'Venous Insufficiency']"
   ]
  },
  {
   "cell_type": "code",
   "execution_count": null,
   "metadata": {},
   "outputs": [],
   "source": [
    "column_headings = [\"Morbidity Class\", \"NB_Macro F1\", \"NB_Micro F1\"]\n",
    "\n",
    "with open(\"performances_NB.csv\", \"w\", newline=\"\") as file:\n",
    "    writer = csv.writer(file)\n",
    "    writer.writerow([column_headings[0], column_headings[1], column_headings[2]])\n",
    "    \n",
    "    \n",
=======
   "execution_count": 4,
   "metadata": {},
   "outputs": [],
   "source": [
    "train_preprocessed_df = pd.read_csv('preprocessed_train.csv')\n",
    "test_preprocessed_df  = pd.read_csv('preprocessed_test.csv')"
   ]
  },
  {
   "cell_type": "code",
   "execution_count": 5,
   "metadata": {},
   "outputs": [],
   "source": [
    "morbidities = ['Asthma', 'CAD', 'CHF', 'Depression', 'Diabetes', 'Gallstones', 'GERD', 'Gout', 'Hypercholesterolemia', 'Hypertension', 'Hypertriglyceridemia', 'OA', 'Obesity', 'OSA', 'PVD', 'Venous-Insufficiency']"
   ]
  },
  {
   "cell_type": "code",
   "execution_count": 6,
   "metadata": {},
   "outputs": [],
   "source": [
    "column_headings = [\"Morbidity Class\", \"NB_Macro F1\", \"NB_Micro F1\"]\n",
    "\n",
    "with open(\"performance_NB.csv\", \"w\", newline=\"\") as file:\n",
    "    writer = csv.writer(file)\n",
    "    writer.writerow([column_headings[0], column_headings[1], column_headings[2]])\n",
    "    "
   ]
  },
  {
   "cell_type": "code",
   "execution_count": 7,
   "metadata": {},
   "outputs": [
    {
     "name": "stdout",
     "output_type": "stream",
     "text": [
      "(611, 600) (611,) Counter({0.0: 502, 1.0: 70, -1.0: 39})\n",
      "Macro F1 score: 0.3005289606643947 and Micro F1 Score 0.8215758857747224\n",
      "(611, 600) (611,) Counter({1.0: 325, 0.0: 223, -1.0: 63})\n",
      "Macro F1 score: 0.4530109416998678 and Micro F1 Score 0.6693548387096775\n",
      "(611, 600) (611,) Counter({-1.0: 368, 1.0: 243})\n",
      "Macro F1 score: 0.6268196001061414 and Micro F1 Score 0.687414066631412\n",
      "(611, 600) (611,) Counter({0.0: 460, 1.0: 122, -1.0: 29})\n",
      "Macro F1 score: 0.2995654535521368 and Micro F1 Score 0.7544420941300899\n",
      "(611, 600) (611,) Counter({1.0: 396, 0.0: 171, -1.0: 44})\n",
      "Macro F1 score: 0.2671093069567799 and Micro F1 Score 0.6496562665256478\n",
      "(611, 600) (611,) Counter({0.0: 506, 1.0: 87, -1.0: 18})\n",
      "Macro F1 score: 0.3018293667748662 and Micro F1 Score 0.8281332628239028\n",
      "(611, 600) (611,) Counter({0.0: 372, -1.0: 124, 1.0: 115})\n",
      "Macro F1 score: 0.2518214865630219 and Micro F1 Score 0.6088048651507139\n",
      "(611, 600) (611,) Counter({0.0: 518, 1.0: 78, -1.0: 15})\n",
      "Macro F1 score: 0.3678255998537835 and Micro F1 Score 0.8478582760444209\n",
      "(611, 600) (611,) Counter({1.0: 262, 0.0: 240, -1.0: 109})\n",
      "Macro F1 score: 0.3589664531126008 and Micro F1 Score 0.49249074563722894\n",
      "(611, 600) (611,) Counter({1.0: 428, 0.0: 103, -1.0: 80})\n",
      "Macro F1 score: 0.2745105008210988 and Micro F1 Score 0.7005023796932839\n",
      "(611, 600) (611,) Counter({0.0: 554, 1.0: 33, -1.0: 24})\n",
      "Macro F1 score: 0.34905586754645274 and Micro F1 Score 0.9067424643046008\n",
      "(611, 600) (611,) Counter({0.0: 467, 1.0: 98, -1.0: 46})\n",
      "Macro F1 score: 0.2884867384502405 and Micro F1 Score 0.7642517186673716\n",
      "(611, 600) (611,) Counter({0.0: 314, 1.0: 239, -1.0: 58})\n",
      "Macro F1 score: 0.36559644727734203 and Micro F1 Score 0.5419090428344792\n",
      "(611, 600) (611,) Counter({0.0: 506, 1.0: 84, -1.0: 21})\n",
      "Macro F1 score: 0.34972206993291816 and Micro F1 Score 0.8314912744579587\n",
      "(611, 600) (611,) Counter({0.0: 469, 1.0: 87, -1.0: 55})\n",
      "Macro F1 score: 0.2892930168337677 and Micro F1 Score 0.7676890534108937\n",
      "(611, 600) (611,) Counter({0.0: 482, -1.0: 85, 1.0: 44})\n",
      "Macro F1 score: 0.29377835086045134 and Micro F1 Score 0.7888947646747753\n"
     ]
    }
   ],
   "source": [
    "\n",
>>>>>>> Stashed changes
    "for morbidity in morbidities:\n",
    "    dataPreprocessing = DataPreprocessing('./dataset/train/train_data_textual.csv', morbidity)\n",
    "    train_preprocessed_df = dataPreprocessing.preprocess_data()\n",
    "\n",
<<<<<<< Updated upstream
    "    dataPreprocessing = DataPreprocessing('./dataset/test/test_data_textual.csv', morbidity)\n",
    "    test_preprocessed_df = dataPreprocessing.preprocess_data()\n",
    "\n",
=======
>>>>>>> Stashed changes
    "    X, Y, words = TFIDFFeatureGeneration(train_preprocessed_df, morbidity).tf_idf_matrix_gen()\n",
    "\n",
    "    # add KFold cross validation\n",
    "    skf = KFold(n_splits=10, shuffle=True, random_state=42)\n",
    "\n",
    "    f1_macro_list = []\n",
    "    f1_micro_list = []\n",
    "    for train_idx, val_idx in skf.split(X, Y):\n",
    "        X_train_fold, Y_train_fold = X[train_idx], Y[train_idx]\n",
    "        X_val_fold, Y_val_fold = X[val_idx], Y[val_idx]\n",
    "\n",
    "        # Training RF using TF-IDF Representation\n",
    "        nb_obj = NaiveBayes(X_train_fold, Y_train_fold, X_val_fold, Y_val_fold)\n",
    "        nb_obj.train()\n",
    "\n",
    "        f1_macro, f1_micro = nb_obj.test_and_evaluate()\n",
    "\n",
    "        f1_macro_list.append(f1_macro)\n",
    "        f1_micro_list.append(f1_micro)\n",
    "\n",
    "    f1_macro = np.mean(f1_macro_list)\n",
    "    f1_micro = np.mean(f1_micro_list)\n",
    "    print(f\"Macro F1 score: {f1_macro} and Micro F1 Score {f1_micro}\")\n",
    "\n",
    "    row_heading = morbidity\n",
    "\n",
    "    data = [f1_macro, f1_micro]\n",
    "\n",
    "    with open(\"performance_NB.csv\", \"a\", newline=\"\") as file:\n",
    "        writer = csv.writer(file)\n",
    "        row = [row_heading]\n",
    "        row.extend(data)\n",
    "        writer.writerow(row)\n",
    "\n",
    "    "
   ]
  },
  {
   "cell_type": "code",
   "execution_count": null,
   "metadata": {},
   "outputs": [],
   "source": []
  }
 ],
 "metadata": {
  "kernelspec": {
   "display_name": "Python 3",
   "language": "python",
   "name": "python3"
  },
  "language_info": {
   "codemirror_mode": {
    "name": "ipython",
    "version": 3
   },
   "file_extension": ".py",
   "mimetype": "text/x-python",
   "name": "python",
   "nbconvert_exporter": "python",
   "pygments_lexer": "ipython3",
   "version": "3.8.9"
  },
  "orig_nbformat": 4
 },
 "nbformat": 4,
 "nbformat_minor": 2
}
