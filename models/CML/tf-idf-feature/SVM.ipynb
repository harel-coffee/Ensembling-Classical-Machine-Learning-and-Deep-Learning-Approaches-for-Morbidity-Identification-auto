{
 "cells": [
  {
   "cell_type": "code",
   "execution_count": 4,
   "id": "d581020a",
   "metadata": {},
   "outputs": [],
   "source": [
    "from sklearn import svm\n",
    "import os\n",
    "os.chdir('/Users/ritwikdeshpande/DLH/Project/CS598_DLH_Project/')\n",
    "from dataset.preprocessing.data_preprocessing import DataPreprocessing\n",
    "from dataset.preprocessing.tf_idf_all_feature_matrix_gen import TFIDFFeatureGeneration\n",
    "from dataset.preprocessing.word2vec_embeddings_gen import Word2VecFeatureGeneration\n",
    "from sklearn.metrics import f1_score\n"
   ]
  },
  {
   "cell_type": "code",
   "execution_count": 5,
   "id": "6eecbbd3",
   "metadata": {},
   "outputs": [],
   "source": [
    "class SVM:\n",
    "    def __init__(self, x_train, y_train, x_test, y_test):\n",
    "        self.svm = svm.SVC(kernel='linear')\n",
    "        self.x_train = x_train\n",
    "        self.y_train = y_train\n",
    "        self.x_test = x_test\n",
    "        self.y_test = y_test\n",
    "        print(self.x_train.shape, self.y_train.shape, self.x_test.shape, self.y_test.shape)\n",
    "        \n",
    "    def train(self):\n",
    "        \n",
    "        self.svm.fit(self.x_train, self.y_train)\n",
    "\n",
    "    def test_and_evaluate(self):\n",
    "        y_pred = self.svm.predict(self.x_test)\n",
    "        f1_macro = f1_score(self.y_test, y_pred, average='macro')\n",
    "        f1_micro = f1_score(self.y_test, y_pred, average='micro')\n",
    "        print(f\"Macro F1 score: {f1_macro} and Micro F1 Score {f1_micro}\")"
   ]
  },
  {
   "cell_type": "code",
   "execution_count": 3,
   "id": "a513a952",
   "metadata": {},
   "outputs": [
    {
     "name": "stdout",
     "output_type": "stream",
     "text": [
      "The shape of df is (76, 3)\n",
      "The shape of df is (70, 3)\n"
     ]
    }
   ],
   "source": [
    "dataPreprocessing = DataPreprocessing('./dataset/train/train_data_textual.csv', 'Asthma')\n",
    "train_preprocessed_df = dataPreprocessing.preprocess_data()\n",
    "\n",
    "dataPreprocessing = DataPreprocessing('./dataset/test/test_data_textual.csv', 'Asthma')\n",
    "test_preprocessed_df = dataPreprocessing.preprocess_data()\n"
   ]
  },
  {
   "cell_type": "code",
   "execution_count": 6,
   "id": "c3bcfdf1",
   "metadata": {},
   "outputs": [
    {
     "name": "stdout",
     "output_type": "stream",
     "text": [
      "['abd' 'abdoman' 'abdominal' 'about' 'above' 'acid' 'activity' 'acute'\n",
      " 'add' 'addition' 'additional' 'admission' 'admit' 'advair' 'afebrile'\n",
      " 'affect' 'after' 'air' 'albuterol' 'alcohol' 'alert' 'all' 'allergy'\n",
      " 'also' 'although' 'am' 'an' 'and' 'anemia' 'antibiotic' 'anxiety' 'any'\n",
      " 'apnea' 'appear' 'applicable' 'appointment' 'approximate' 'artery' 'as'\n",
      " 'asa' 'aspiration' 'aspirin' 'associate' 'asthma' 'at' 'atenolol'\n",
      " 'atorvastatin' 'atrial' 'atrovent' 'attend' 'avoid' 'aware' 'back'\n",
      " 'baseline' 'batch' 'be' 'become' 'bed' 'before' 'bid' 'bilateral'\n",
      " 'bilaterally' 'blocker' 'blood' 'both' 'bowel' 'bp' 'breath' 'brief' 'bs'\n",
      " 'bun' 'but' 'by' 'cad' 'calcium' 'call' 'can' 'cancer' 'cardiac'\n",
      " 'cardiology' 'cardiomyopathy' 'cardiovascular' 'care' 'cath'\n",
      " 'catheterization' 'cause' 'cc' 'cell' 'center' 'change' 'check' 'chest'\n",
      " 'chf' 'chill' 'chloride' 'cholesterol' 'chronic' 'clear' 'clinic' 'cm'\n",
      " 'coat' 'code' 'colace' 'colitis' 'comment' 'complete' 'complication'\n",
      " 'concern' 'condition' 'congestive' 'consistent' 'constipation' 'consult'\n",
      " 'cont' 'contingent' 'continue' 'control' 'copd' 'coronary' 'cough'\n",
      " 'coumadin' 'count' 'course' 'cp' 'creatinine' 'ct' 'culture' 'cv' 'cxr'\n",
      " 'daily' 'date' 'datum' 'day' 'decrease' 'demonstrate' 'deny' 'depression'\n",
      " 'develop' 'diabete' 'diabetes' 'diagnosis' 'diarrhea' 'diastolic'\n",
      " 'dictate' 'dictation' 'diet' 'diltiazem' 'dis' 'discharge' 'discontinue'\n",
      " 'disease' 'disposition' 'distress' 'diuresis' 'dm' 'do' 'doctor'\n",
      " 'document' 'dose' 'down' 'dr' 'draw' 'drop' 'drug' 'dry' 'due' 'during'\n",
      " 'dvt' 'dysfunction' 'dyspnea' 'echo' 'echocardiogram' 'ed' 'edema' 'ef'\n",
      " 'effusion' 'ejection' 'ekg' 'elevate' 'elevated' 'emergency' 'empty'\n",
      " 'end' 'enter' 'enteric' 'enzyme' 'episode' 'etiology' 'evaluation'\n",
      " 'every' 'evidence' 'exacerbation' 'exam' 'examination' 'exercise'\n",
      " 'extremity' 'failure' 'family' 'fat' 'feel' 'female' 'fever' 'final'\n",
      " 'find' 'flagyl' 'fluid' 'fluticasone' 'follow' 'food' 'foot' 'for'\n",
      " 'fraction' 'from' 'full' 'function' 'furosemide' 'further' 'gerd' 'gi'\n",
      " 'give' 'go' 'goal' 'good' 'gout' 'gram' 'grapefruit' 'great' 'have' 'hcl'\n",
      " 'he' 'head' 'headache' 'heart' 'heent' 'hematocrit' 'heparin' 'her'\n",
      " 'hernia' 'high' 'hip' 'his' 'history' 'ho' 'hold' 'home' 'hospital'\n",
      " 'hospitalization' 'hour' 'house' 'however' 'hr' 'htn' 'human' 'hx'\n",
      " 'hypertension' 'if' 'ii' 'illness' 'improve' 'in' 'include' 'increase'\n",
      " 'infarction' 'infection' 'infectious' 'information' 'inh' 'inhaler'\n",
      " 'initially' 'inr' 'instruct' 'instruction' 'insufficiency' 'insulin'\n",
      " 'intact' 'interaction' 'ipratropium' 'iron' 'ischemia' 'ischemic' 'it'\n",
      " 'iv' 'jvp' 'knee' 'know' 'lab' 'laboratory' 'lad' 'lasix' 'last' 'leave'\n",
      " 'left' 'leg' 'lesion' 'less' 'levofloxacin' 'likely' 'limit' 'lipitor'\n",
      " 'lisinopril' 'liter' 'lobe' 'lopressor' 'lovenox' 'low' 'lung' 'maintain'\n",
      " 'make' 'may' 'mcg' 'md' 'meal' 'med' 'medical' 'medication' 'mellitus'\n",
      " 'mental' 'meq' 'metoprolol' 'mg' 'mi' 'mibi' 'mild' 'minute' 'mitral'\n",
      " 'moderate' 'monitor' 'month' 'more' 'morphine' 'most' 'multiple' 'murmur'\n",
      " 'myocardial' 'nasal' 'nausea' 'nebulizer' 'neck' 'need' 'negative'\n",
      " 'neuro' 'neurological' 'new' 'nexium' 'nitroglycerin' 'nl' 'no' 'non'\n",
      " 'none' 'normal' 'not' 'notable' 'note' 'notice' 'now' 'nph' 'number'\n",
      " 'obese' 'obesity' 'obstructive' 'obtain' 'of' 'old' 'on' 'one' 'only'\n",
      " 'operation' 'or' 'oral' 'order' 'orient' 'orthopnea' 'osa' 'other'\n",
      " 'otherwise' 'out' 'outpatient' 'outpt' 'over' 'overridden' 'override'\n",
      " 'oxycodone' 'oxygen' 'pain' 'past' 'patient' 'pcp' 'pe' 'peak' 'pende'\n",
      " 'penicillin' 'per' 'physical' 'physician' 'place' 'plan' 'please' 'pm'\n",
      " 'pneumonia' 'po' 'positive' 'possible' 'post' 'postoperative' 'potassium'\n",
      " 'potentially' 'pre' 'prednisone' 'present' 'pressure' 'previous'\n",
      " 'primary' 'principal' 'prior' 'prn' 'problem' 'procedure' 'pt' 'puff'\n",
      " 'pulm' 'pulmonary' 'pulse' 'pump' 'qam' 'qd' 'qhs' 'qid' 'qpm' 'question'\n",
      " 'ra' 'rate' 'ray' 'reaction' 'reason' 'receive' 'recent' 'recently'\n",
      " 'recommend' 'ref' 'regimen' 'regular' 'rehab' 'release' 'renal' 'repair'\n",
      " 'repeat' 'report' 'require' 'resolve' 'respiratory' 'responsible'\n",
      " 'restart' 'result' 'resume' 'return' 'reveal' 'rhythm' 'right' 'room'\n",
      " 'rule' 'saturation' 'sc' 'scale' 'scan' 'schedule' 'secondary' 'see'\n",
      " 'seizure' 'serious' 'service' 'setting' 'several' 'severe' 'she'\n",
      " 'shortness' 'should' 'show' 'sign' 'significant' 'simvastatin' 'since'\n",
      " 'sinus' 'sit' 'skin' 'sleep' 'slide' 'slow' 'small' 'so' 'sob' 'social'\n",
      " 'sodium' 'soft' 'some' 'sound' 'st' 'stable' 'start' 'state' 'status'\n",
      " 'stay' 'stenosis' 'steroid' 'stomach' 'stool' 'stop' 'stress' 'study'\n",
      " 'subcutaneously' 'sugar' 'sulfa' 'sulfate' 'summary' 'surgery' 'swallow'\n",
      " 'symptom' 'systolic' 'tab' 'tablet' 'take' 'taper' 'team' 'temperature'\n",
      " 'tenderness' 'test' 'than' 'that' 'the' 'then' 'theophylline' 'therapy'\n",
      " 'there' 'these' 'this' 'three' 'throughout' 'tid' 'time' 'to' 'today'\n",
      " 'tolerate' 'toprol' 'total' 'tract' 'transfer' 'treat' 'treatment' 'tube'\n",
      " 'two' 'tylenol' 'undergo' 'unit' 'unless' 'until' 'up' 'upon' 'upper'\n",
      " 'urinary' 'urine' 'use' 'valve' 'vancomycin' 'vascular' 'ventricular'\n",
      " 'very' 'vital' 'volume' 'vomiting' 'walk' 'wall' 'warfarin' 'wave' 'wbc'\n",
      " 'we' 'week' 'weight' 'well' 'wheeze' 'wheezing' 'when' 'which' 'while'\n",
      " 'white' 'who' 'will' 'with' 'within' 'without' 'woman' 'work' 'worsen'\n",
      " 'would' 'wound' 'xl' 'year' 'yes' 'yo' 'you' 'your' 'zocor'] (76, 600) (76,)\n",
      "['abdoman' 'abdominal' 'able' 'about' 'above' 'acid' 'activity' 'acute'\n",
      " 'ada' 'add' 'additional' 'admission' 'admit' 'advair' 'afebrile' 'affect'\n",
      " 'after' 'ago' 'air' 'albuterol' 'alcohol' 'alert' 'all' 'allergy' 'also'\n",
      " 'although' 'am' 'an' 'and' 'anemia' 'angina' 'antibiotic' 'anxiety' 'any'\n",
      " 'apnea' 'appointment' 'approximate' 'approximately' 'area' 'arm' 'artery'\n",
      " 'as' 'asa' 'aspirin' 'asthma' 'at' 'atenolol' 'atrial' 'atrovent'\n",
      " 'attend' 'avoid' 'aware' 'back' 'baseline' 'batch' 'be' 'bedtime'\n",
      " 'before' 'begin' 'beta' 'bid' 'bilateral' 'bilaterally' 'blood' 'bowel'\n",
      " 'bp' 'breast' 'breath' 'brief' 'bs' 'bun' 'but' 'by' 'cabg' 'cad' 'call'\n",
      " 'can' 'cancer' 'cardiac' 'cardiologist' 'cardiovascular' 'care' 'carotid'\n",
      " 'cath' 'catheterization' 'cause' 'cc' 'cell' 'center' 'change' 'check'\n",
      " 'chest' 'chf' 'chloride' 'chronic' 'ck' 'clear' 'clinic' 'cm' 'coat'\n",
      " 'code' 'colace' 'come' 'comment' 'complaint' 'complication' 'concern'\n",
      " 'condition' 'congestive' 'consider' 'consistent' 'constipation' 'consult'\n",
      " 'cont' 'contingent' 'continue' 'control' 'copd' 'coronary' 'cough'\n",
      " 'coumadin' 'count' 'course' 'cp' 'creatinine' 'ct' 'culture' 'cv' 'cxr'\n",
      " 'daily' 'date' 'datum' 'day' 'decrease' 'degree' 'deny' 'depression'\n",
      " 'develop' 'diabete' 'diabetes' 'diagnosis' 'diarrhea' 'dictate' 'diet'\n",
      " 'digoxin' 'diltiazem' 'dis' 'discharge' 'discontinue' 'disease'\n",
      " 'disposition' 'distress' 'diuresis' 'dm' 'do' 'doctor' 'document' 'dose'\n",
      " 'down' 'dr' 'draw' 'drug' 'due' 'during' 'dvt' 'dyspnea' 'each' 'ecg'\n",
      " 'echo' 'echocardiogram' 'ed' 'edema' 'ef' 'effusion' 'ejection' 'ekg'\n",
      " 'elevate' 'emergency' 'empty' 'end' 'enter' 'enteric' 'enzyme' 'episode'\n",
      " 'evaluation' 'every' 'evidence' 'exacerbation' 'exam' 'examination'\n",
      " 'exercise' 'exertion' 'experience' 'extremity' 'failure' 'family' 'fat'\n",
      " 'feel' 'female' 'fever' 'fibrillation' 'final' 'find' 'first' 'flow'\n",
      " 'fluid' 'fluticasone' 'follow' 'followup' 'food' 'for' 'four' 'fraction'\n",
      " 'from' 'full' 'function' 'furosemide' 'further' 'general' 'get' 'gi'\n",
      " 'give' 'glucose' 'go' 'good' 'gram' 'grapefruit' 'great' 'have' 'hcl'\n",
      " 'he' 'heart' 'heent' 'hematocrit' 'heme' 'heparin' 'her' 'high' 'hip'\n",
      " 'his' 'history' 'ho' 'hold' 'home' 'hospital' 'hour' 'house' 'however'\n",
      " 'hr' 'htn' 'hx' 'hypercholesterolemia' 'hypertension' 'if' 'ii' 'illness'\n",
      " 'improve' 'in' 'include' 'increase' 'index' 'infarction' 'infection'\n",
      " 'information' 'inh' 'inhaler' 'initially' 'inr' 'instruct' 'instruction'\n",
      " 'insufficiency' 'insulin' 'intact' 'interaction' 'iron' 'ischemia'\n",
      " 'issue' 'it' 'iv' 'joint' 'jvp' 'kcl' 'knee' 'know' 'lab' 'laboratory'\n",
      " 'lad' 'lasix' 'last' 'lead' 'leave' 'left' 'leg' 'lesion' 'less' 'level'\n",
      " 'levofloxacin' 'likely' 'line' 'lipitor' 'lisinopril' 'liter' 'live'\n",
      " 'long' 'lopressor' 'low' 'lung' 'lv' 'magnesium' 'make' 'may' 'mcg' 'md'\n",
      " 'meal' 'med' 'medical' 'medication' 'mellitus' 'meq' 'metformin'\n",
      " 'metoprolol' 'mg' 'mi' 'mibi' 'mid' 'mild' 'minute' 'mitral' 'moderate'\n",
      " 'monitor' 'month' 'morbid' 'more' 'morning' 'most' 'mouth' 'mr'\n",
      " 'multiple' 'murmur' 'myocardial' 'nasal' 'nausea' 'nebulizer' 'neck'\n",
      " 'need' 'negative' 'neuro' 'new' 'nexium' 'night' 'nitroglycerin' 'no'\n",
      " 'non' 'none' 'normal' 'not' 'notable' 'note' 'notice' 'now' 'number'\n",
      " 'obese' 'obesity' 'obstructive' 'october' 'of' 'off' 'old' 'on' 'once'\n",
      " 'one' 'only' 'operation' 'or' 'orally' 'order' 'orthopnea' 'other'\n",
      " 'otherwise' 'out' 'outpatient' 'outpt' 'over' 'overridden' 'override'\n",
      " 'oxygen' 'pain' 'past' 'patient' 'pcp' 'pe' 'peak' 'pende' 'per'\n",
      " 'perform' 'physical' 'physician' 'place' 'placement' 'plan' 'platelet'\n",
      " 'plavix' 'please' 'plus' 'pm' 'po' 'positive' 'possible' 'post'\n",
      " 'postoperative' 'potassium' 'potentially' 'prednisone' 'present'\n",
      " 'pressure' 'previous' 'primary' 'principal' 'prior' 'prn' 'problem'\n",
      " 'procedure' 'pt' 'puff' 'pulm' 'pulmonary' 'pulse' 'qd' 'qhs' 'qid'\n",
      " 'range' 'rate' 'ray' 'reaction' 'reason' 'receive' 'recent' 'recommend'\n",
      " 'ref' 'regiman' 'regimen' 'regular' 'rehab' 'rehabilitation' 'release'\n",
      " 'remain' 'remove' 'renal' 'repeat' 'replacement' 'report' 'require'\n",
      " 'resolve' 'respiratory' 'responsible' 'rest' 'result' 'resume' 'return'\n",
      " 'reveal' 'rhythm' 'right' 'risk' 'room' 'rule' 'saturation' 'sbp' 'scale'\n",
      " 'schedule' 'second' 'secondary' 'see' 'send' 'serious' 'serum' 'service'\n",
      " 'setting' 'several' 'severe' 'she' 'shortness' 'should' 'show' 'sign'\n",
      " 'significant' 'simvastatin' 'since' 'sinus' 'sit' 'sleep' 'slide' 'small'\n",
      " 'so' 'sob' 'social' 'sodium' 'soft' 'some' 'sound' 'sputum' 'st' 'stable'\n",
      " 'start' 'state' 'status' 'stay' 'stenosis' 'stent' 'steroid' 'stomach'\n",
      " 'stool' 'stop' 'stress' 'study' 'subcutaneously' 'sugar' 'sulfa'\n",
      " 'summary' 'surgery' 'surgical' 'symptom' 'systolic' 'tab' 'tablet' 'take'\n",
      " 'taper' 'temperature' 'tenderness' 'test' 'than' 'that' 'the' 'then'\n",
      " 'therapeutic' 'therapy' 'there' 'these' 'they' 'think' 'this' 'three'\n",
      " 'throughout' 'tid' 'time' 'to' 'today' 'tolerate' 'total' 'transfer'\n",
      " 'treat' 'treatment' 'troponin' 'tube' 'two' 'undergo' 'unit' 'unless'\n",
      " 'until' 'up' 'upon' 'upper' 'use' 'valve' 'vancomycin' 'venous'\n",
      " 'ventricular' 'verapamil' 'very' 'vital' 'vna' 'volume' 'vomiting' 'walk'\n",
      " 'wall' 'warfarin' 'wave' 'we' 'week' 'weight' 'well' 'wheeze' 'wheezing'\n",
      " 'when' 'where' 'which' 'while' 'white' 'who' 'will' 'with' 'within'\n",
      " 'without' 'woman' 'work' 'worsen' 'year' 'yes' 'you' 'your' 'zocor'] (70, 600) (70,)\n"
     ]
    }
   ],
   "source": [
    "X_train, Y_train, train_words = TFIDFFeatureGeneration(train_preprocessed_df, 'Asthma').tf_idf_matrix_gen()\n",
    "\n",
    "X_test, Y_test, test_words = TFIDFFeatureGeneration(test_preprocessed_df, 'Asthma').tf_idf_matrix_gen()\n"
   ]
  },
  {
   "cell_type": "code",
   "execution_count": 7,
   "id": "573aa432",
   "metadata": {},
   "outputs": [
    {
     "name": "stdout",
     "output_type": "stream",
     "text": [
      "(76, 600) (76,) (70, 600) (70,)\n"
     ]
    }
   ],
   "source": [
    "#Training SVM using TF-IDF Representation\n",
    "svm_obj = SVM(X_train, Y_train, X_test, Y_test)\n",
    "svm_obj.train()"
   ]
  },
  {
   "cell_type": "code",
   "execution_count": 8,
   "id": "80de58f8",
   "metadata": {},
   "outputs": [
    {
     "name": "stdout",
     "output_type": "stream",
     "text": [
      "Macro F1 score: 0.49275362318840576 and Micro F1 Score 0.9714285714285714\n"
     ]
    }
   ],
   "source": [
    "\n",
    "svm_obj.test_and_evaluate()"
   ]
  }
 ],
 "metadata": {
  "kernelspec": {
   "display_name": "cs598-kernel",
   "language": "python",
   "name": "cs598-kernel"
  },
  "language_info": {
   "codemirror_mode": {
    "name": "ipython",
    "version": 3
   },
   "file_extension": ".py",
   "mimetype": "text/x-python",
   "name": "python",
   "nbconvert_exporter": "python",
   "pygments_lexer": "ipython3",
   "version": "3.7.6"
  }
 },
 "nbformat": 4,
 "nbformat_minor": 5
}
