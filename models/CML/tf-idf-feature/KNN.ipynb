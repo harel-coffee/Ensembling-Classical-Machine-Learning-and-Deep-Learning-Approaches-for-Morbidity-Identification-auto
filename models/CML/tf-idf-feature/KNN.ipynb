{
 "cells": [
  {
   "cell_type": "code",
   "execution_count": null,
   "metadata": {},
   "outputs": [],
   "source": [
    "from sklearn.neighbors import KNeighborsClassifier\n",
    "import os\n",
    "os.chdir('/Users/renalkakhan/Documents/GitHub/CS598_DLH_Project/')\n",
    "from dataset.preprocessing.data_preprocessing import DataPreprocessing\n",
    "from dataset.preprocessing.tf_idf_all_feature_matrix_gen import TFIDFFeatureGeneration\n",
    "from dataset.preprocessing.word2vec_embeddings_gen import Word2VecFeatureGeneration\n",
    "from sklearn.metrics import f1_score\n",
    "import csv\n",
    "from sklearn.model_selection import KFold\n",
    "import numpy as np"
   ]
  },
  {
   "cell_type": "code",
   "execution_count": null,
   "metadata": {},
   "outputs": [],
   "source": [
    "class KNN:\n",
    "    def __init__(self, x_train, y_train, x_test, y_test, n):\n",
    "        self.knn = KNeighborsClassifier(n_neighbors=n)\n",
    "        self.x_train = x_train\n",
    "        self.y_train = y_train\n",
    "        self.x_test = x_test\n",
    "        self.y_test = y_test\n",
    "\n",
    "    def train(self):\n",
    "        self.knn.fit(self.x_train, self.y_train)\n",
    "\n",
    "    def test_and_evaluate(self):\n",
    "        y_pred = self.knn.predict(self.x_test)\n",
    "        f1_macro = f1_score(self.y_test, y_pred, average='macro')\n",
    "        f1_micro = f1_score(self.y_test, y_pred, average='micro')\n",
    "        return f1_macro, f1_micro"
   ]
  },
  {
   "cell_type": "code",
   "execution_count": null,
   "metadata": {},
   "outputs": [],
   "source": [
    "morbidities = ['Asthma', 'CAD', 'CHF', 'Depression', 'Diabetes', 'Gallstones', 'GERD', 'Gout', 'Hypercholesterolemia', 'Hypertension', 'Hypertriglyceridemia', 'OA', 'Obesity', 'OSA', 'PVD', 'Venous Insufficiency']"
   ]
  },
  {
   "cell_type": "code",
   "execution_count": null,
   "metadata": {},
   "outputs": [],
   "source": [
    "column_headings = [\"Morbidity Class\", \"KNN1_Macro F1\", \"KNN1_Micro F1\", \"KNN5_Macro F1\", \"KNN5_Micro F1\"]\n",
    "\n",
    "with open(\"performances_KNN.csv\", \"w\", newline=\"\") as file:\n",
    "    writer = csv.writer(file)\n",
    "\n",
    "    # write the RF heading and the subheadings for Micro F1 and Macro F1\n",
    "    writer.writerow([column_headings[0], column_headings[1], column_headings[2], column_headings[3], column_headings[4]])\n",
    "    \n",
    "for morbidity in morbidities:\n",
    "    dataPreprocessing = DataPreprocessing('./dataset/train/train_data_textual.csv', morbidity)\n",
    "    train_preprocessed_df = dataPreprocessing.preprocess_data()\n",
    "\n",
    "    dataPreprocessing = DataPreprocessing('./dataset/test/test_data_textual.csv', morbidity)\n",
    "    test_preprocessed_df = dataPreprocessing.preprocess_data()\n",
    "\n",
    "    X, Y, words = TFIDFFeatureGeneration(train_preprocessed_df, morbidity).tf_idf_matrix_gen()\n",
    "\n",
    "    # add KFold cross validation\n",
    "    skf = KFold(n_splits=10, shuffle=True, random_state=42)\n",
    "\n",
    "    f1_macro_list1 = []\n",
    "    f1_micro_list1 = []\n",
    "    f1_macro_list5 = []\n",
    "    f1_micro_list5 = []\n",
    "    for train_idx, val_idx in skf.split(X, Y):\n",
    "        X_train_fold, Y_train_fold = X[train_idx], Y[train_idx]\n",
    "        X_val_fold, Y_val_fold = X[val_idx], Y[val_idx]\n",
    "\n",
    "        # Training KNN using TF-IDF Representation\n",
    "        knn1_obj = KNN(X_train_fold, Y_train_fold, X_val_fold, Y_val_fold, 1)\n",
    "        knn1_obj.train()\n",
    "\n",
    "        f1_macro1, f1_micro1 = knn1_obj.test_and_evaluate()\n",
    "\n",
    "        f1_macro_list1.append(f1_macro1)\n",
    "        f1_micro_list1.append(f1_micro1)\n",
    "\n",
    "        knn5_obj = KNN(X_train_fold, Y_train_fold, X_val_fold, Y_val_fold, 5)\n",
    "        knn5_obj.train()\n",
    "\n",
    "        f1_macro5, f1_micro5 = knn5_obj.test_and_evaluate()\n",
    "\n",
    "        f1_macro_list5.append(f1_macro5)\n",
    "        f1_micro_list5.append(f1_micro5)\n",
    "\n",
    "    f1_macro1 = np.mean(f1_macro_list1)\n",
    "    f1_micro1 = np.mean(f1_micro_list1)\n",
    "    f1_macro5 = np.mean(f1_macro_list5)\n",
    "    f1_micro5 = np.mean(f1_micro_list5)\n",
    "\n",
    "    print(f\"For n=1, Macro F1 score: {f1_macro1} and Micro F1 Score {f1_micro1}\")\n",
    "    print(f\"For n=5, Macro F1 score: {f1_macro5} and Micro F1 Score {f1_micro5}\")\n",
    "\n",
    "    row_heading = morbidity\n",
    "\n",
    "    # data to be written to the CSV file\n",
    "    data = [f1_macro1, f1_micro1, f1_macro5, f1_micro5]\n",
    "\n",
    "    with open(\"performances_KNN.csv\", \"a\", newline=\"\") as file:\n",
    "        writer = csv.writer(file)\n",
    "        row = [row_heading]\n",
    "        row.extend(data)\n",
    "        writer.writerow(row)"
   ]
  }
 ],
 "metadata": {
  "kernelspec": {
   "display_name": "Python 3",
   "language": "python",
   "name": "python3"
  },
  "language_info": {
   "codemirror_mode": {
    "name": "ipython",
    "version": 3
   },
   "file_extension": ".py",
   "mimetype": "text/x-python",
   "name": "python",
   "nbconvert_exporter": "python",
   "pygments_lexer": "ipython3",
   "version": "3.8.9"
  },
  "orig_nbformat": 4
 },
 "nbformat": 4,
 "nbformat_minor": 2
}
